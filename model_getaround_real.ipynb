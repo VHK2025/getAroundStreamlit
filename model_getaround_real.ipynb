{
 "cells": [
  {
   "cell_type": "code",
   "execution_count": 4,
   "id": "d4835c5a",
   "metadata": {},
   "outputs": [],
   "source": [
    "import pandas as pd\n",
    "from sklearn.ensemble import RandomForestRegressor\n",
    "from sklearn.model_selection import train_test_split\n",
    "from sklearn.preprocessing import OneHotEncoder\n",
    "from sklearn.compose import ColumnTransformer\n",
    "from sklearn.pipeline import Pipeline\n",
    "from sklearn.metrics import mean_absolute_error\n",
    "import joblib\n",
    "\n",
    "# Chargement de ton dataset (fictif ici)\n",
    "df = pd.read_csv(\"get_around_pricing_project.csv\")"
   ]
  },
  {
   "cell_type": "code",
   "execution_count": 5,
   "id": "4c7d9b6d",
   "metadata": {},
   "outputs": [],
   "source": [
    "# 🔹 Cible\n",
    "target = \"rental_price_per_day\"\n",
    "\n",
    "# 🔹 Sélection des features\n",
    "features = [\n",
    "    \"mileage\", \"engine_power\", \"fuel\", \"paint_color\", \"car_type\", \"model_key\",\n",
    "    \"private_parking_available\", \"has_gps\", \"has_air_conditioning\",\n",
    "    \"automatic_car\", \"has_getaround_connect\", \"has_speed_regulator\", \"winter_tires\"\n",
    "]\n",
    "\n",
    "X = df[features]\n",
    "y = df[target]"
   ]
  },
  {
   "cell_type": "code",
   "execution_count": 6,
   "id": "675e55da",
   "metadata": {},
   "outputs": [
    {
     "name": "stdout",
     "output_type": "stream",
     "text": [
      "MAE (Mean Absolute Error) : 10.66 €\n",
      "✅ Modèle enregistré dans 'model_getaround_real.pkl'\n"
     ]
    }
   ],
   "source": [
    "# 🔹 Colonnes à encoder (catégorielles)\n",
    "cat_features = [\"fuel\", \"paint_color\", \"car_type\", \"model_key\"]\n",
    "num_features = [\"mileage\", \"engine_power\"]\n",
    "bool_features = list(set(features) - set(cat_features) - set(num_features))\n",
    "\n",
    "# 🔹 Pipeline de transformation\n",
    "preprocessor = ColumnTransformer(transformers=[\n",
    "    (\"cat\", OneHotEncoder(handle_unknown=\"ignore\"), cat_features)\n",
    "], remainder=\"passthrough\")\n",
    "\n",
    "# 🔹 Pipeline complet\n",
    "pipeline = Pipeline(steps=[\n",
    "    (\"preprocessor\", preprocessor),\n",
    "    (\"model\", RandomForestRegressor(n_estimators=100, random_state=42))\n",
    "])\n",
    "\n",
    "# 🔹 Split\n",
    "X_train, X_test, y_train, y_test = train_test_split(X, y, test_size=0.2, random_state=42)\n",
    "\n",
    "# 🔹 Entraînement\n",
    "pipeline.fit(X_train, y_train)\n",
    "\n",
    "# 🔹 Évaluation\n",
    "y_pred = pipeline.predict(X_test)\n",
    "mae = mean_absolute_error(y_test, y_pred)\n",
    "print(f\"MAE (Mean Absolute Error) : {mae:.2f} €\")\n",
    "\n",
    "# 🔹 Sauvegarde du modèle\n",
    "joblib.dump(pipeline, \"model_getaround_real.pkl\")\n",
    "print(\"✅ Modèle enregistré dans 'model_getaround_real.pkl'\")"
   ]
  }
 ],
 "metadata": {
  "kernelspec": {
   "display_name": "Python 3",
   "language": "python",
   "name": "python3"
  },
  "language_info": {
   "codemirror_mode": {
    "name": "ipython",
    "version": 3
   },
   "file_extension": ".py",
   "mimetype": "text/x-python",
   "name": "python",
   "nbconvert_exporter": "python",
   "pygments_lexer": "ipython3",
   "version": "3.11.0"
  }
 },
 "nbformat": 4,
 "nbformat_minor": 5
}
